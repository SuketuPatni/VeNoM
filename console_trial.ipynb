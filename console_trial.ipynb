{
 "cells": [
  {
   "cell_type": "code",
   "execution_count": 50,
   "metadata": {},
   "outputs": [
    {
     "name": "stdout",
     "output_type": "stream",
     "text": [
      "Loading took too much time!\n"
     ]
    }
   ],
   "source": [
    "from selenium import webdriver\n",
    "from selenium.webdriver.firefox.options import Options\n",
    "from selenium.webdriver.support.ui import WebDriverWait\n",
    "from selenium.webdriver.support import expected_conditions as EC\n",
    "from selenium.webdriver.common.by import By\n",
    "from selenium.common.exceptions import TimeoutException\n",
    "from time import sleep\n",
    "\n",
    "drive_link = \"https://drive.google.com/file/d/1b2WGOpIxq8VoTsu4cNVBqciWKV1Afnbx/view\"\n",
    "\n",
    "opt = Options()\n",
    "opt.add_argument(\"-devtools\")\n",
    "# opt.set_preference(\"browser.download.panel.shown\", False)\n",
    "# opt.set_preference(\"browser.helperApps.neverAsk.openFile\",\"text/PDF_DataFile\")\n",
    "# opt.set_preference(\"browser.helperApps.neverAsk.saveToDisk\", \"text/PDF_DataFile\")\n",
    "# opt.set_preference(\"browser.download.folderList\", 2);\n",
    "# opt.set_preference(\"browser.download.dir\", \"/home/Desktop/VeNoM\")\n",
    "# opt.set_preference(\"browser.download.folderList\", 2)\n",
    "# opt.set_preference(\"browser.download.manager.showWhenStarting\", False)\n",
    "# opt.set_preference(\"browser.download.dir\",\"C:\\\\Users\\\\ghs6kor\\\\Documents\\\\Download\")\n",
    "\n",
    "\n",
    "browser = webdriver.Firefox(\n",
    "    options = opt\n",
    ")\n",
    "\n",
    "browser.get(drive_link)\n",
    "\n",
    "delay = 30 # seconds\n",
    "try:\n",
    "    myElem = WebDriverWait(browser, delay).until(EC.presence_of_element_located((By.ID, 'goog-lr-15')))\n",
    "    print(\"Page is ready!\")\n",
    "except TimeoutException:\n",
    "    print(\"Loading took too much time!\")\n",
    "\n",
    "browser.execute_script(f'''{open(\"script.js\").read()}''')\n",
    "\n",
    "# # ----------------\n",
    "# #object of Options class\n",
    "# op = Options()\n",
    "# #save file to path defined for recent download with value 2\n",
    "# op.set_preference(\"browser.download.folderList\",2)\n",
    "# #disable display Download Manager window with false value\n",
    "# op.set_preference(\"browser.download.manager.showWhenStarting\", False)\n",
    "# #download location\n",
    "# op.set_preference(\"browser.download.dir\",\"C:\\\\Users\\\\ghs6kor\\\\Documents\\\\Download\")\n",
    "# #MIME set to save file to disk without asking file type to used to open file\n",
    "# op.set_preference\n",
    "# (\"browser.helperApps.neverAsk.saveToDisk\",\n",
    "# \"application/octet-stream,application/vnd.ms-excel\")\n",
    "# #set geckodriver.exe path\n",
    "# driver = webdriver.Firefox(executable_path=\"C:\\\\geckodriver.exe\",\n",
    "# firefox_options=op)   \n",
    "# driver.maximize_window()\n",
    "# #launch URL\n",
    "# driver.get(\"https://the-internet.herokuapp.com/download\");\n",
    "# #click download link\n",
    "# l = driver.find_element_by_link_text(\"xls-sample1.xls\")\n",
    "# l.click()\n"
   ]
  },
  {
   "cell_type": "code",
   "execution_count": 39,
   "metadata": {},
   "outputs": [],
   "source": [
    "# from selenium.webdriver.common.keys import Keys\n",
    "# from selenium.webdriver.common.action_chains import ActionChains\n",
    "\n",
    "# ActionChains(browser).key_down(Keys.ALT).perform()\n",
    "browser.execute_script(\"'allow pasting'\")\n",
    "browser.execute_script(\"'allow scroll'\")\n"
   ]
  },
  {
   "cell_type": "code",
   "execution_count": 45,
   "metadata": {},
   "outputs": [],
   "source": [
    "browser.execute_script(f'''{open(\"script.js\").read()}''')"
   ]
  },
  {
   "cell_type": "code",
   "execution_count": 43,
   "metadata": {},
   "outputs": [
    {
     "ename": "KeyError",
     "evalue": "\"'allow pasting'\"",
     "output_type": "error",
     "traceback": [
      "\u001b[0;31m---------------------------------------------------------------------------\u001b[0m",
      "\u001b[0;31mKeyError\u001b[0m                                  Traceback (most recent call last)",
      "\u001b[1;32m/home/exosphere/Desktop/VeNoM/console_trial.ipynb Cell 4'\u001b[0m in \u001b[0;36m<module>\u001b[0;34m\u001b[0m\n\u001b[0;32m----> <a href='vscode-notebook-cell:/home/exosphere/Desktop/VeNoM/console_trial.ipynb#ch0000004?line=0'>1</a>\u001b[0m browser\u001b[39m.\u001b[39;49mexecute(\u001b[39m\"\u001b[39;49m\u001b[39m'\u001b[39;49m\u001b[39mallow pasting\u001b[39;49m\u001b[39m'\u001b[39;49m\u001b[39m\"\u001b[39;49m)\n",
      "File \u001b[0;32m~/Desktop/VeNoM/env/lib/python3.9/site-packages/selenium/webdriver/remote/webdriver.py:422\u001b[0m, in \u001b[0;36mWebDriver.execute\u001b[0;34m(self, driver_command, params)\u001b[0m\n\u001b[1;32m    <a href='file:///~/Desktop/VeNoM/env/lib/python3.9/site-packages/selenium/webdriver/remote/webdriver.py?line=418'>419</a>\u001b[0m         params[\u001b[39m'\u001b[39m\u001b[39msessionId\u001b[39m\u001b[39m'\u001b[39m] \u001b[39m=\u001b[39m \u001b[39mself\u001b[39m\u001b[39m.\u001b[39msession_id\n\u001b[1;32m    <a href='file:///~/Desktop/VeNoM/env/lib/python3.9/site-packages/selenium/webdriver/remote/webdriver.py?line=420'>421</a>\u001b[0m params \u001b[39m=\u001b[39m \u001b[39mself\u001b[39m\u001b[39m.\u001b[39m_wrap_value(params)\n\u001b[0;32m--> <a href='file:///~/Desktop/VeNoM/env/lib/python3.9/site-packages/selenium/webdriver/remote/webdriver.py?line=421'>422</a>\u001b[0m response \u001b[39m=\u001b[39m \u001b[39mself\u001b[39;49m\u001b[39m.\u001b[39;49mcommand_executor\u001b[39m.\u001b[39;49mexecute(driver_command, params)\n\u001b[1;32m    <a href='file:///~/Desktop/VeNoM/env/lib/python3.9/site-packages/selenium/webdriver/remote/webdriver.py?line=422'>423</a>\u001b[0m \u001b[39mif\u001b[39;00m response:\n\u001b[1;32m    <a href='file:///~/Desktop/VeNoM/env/lib/python3.9/site-packages/selenium/webdriver/remote/webdriver.py?line=423'>424</a>\u001b[0m     \u001b[39mself\u001b[39m\u001b[39m.\u001b[39merror_handler\u001b[39m.\u001b[39mcheck_response(response)\n",
      "File \u001b[0;32m~/Desktop/VeNoM/env/lib/python3.9/site-packages/selenium/webdriver/remote/remote_connection.py:414\u001b[0m, in \u001b[0;36mRemoteConnection.execute\u001b[0;34m(self, command, params)\u001b[0m\n\u001b[1;32m    <a href='file:///~/Desktop/VeNoM/env/lib/python3.9/site-packages/selenium/webdriver/remote/remote_connection.py?line=401'>402</a>\u001b[0m \u001b[39mdef\u001b[39;00m \u001b[39mexecute\u001b[39m(\u001b[39mself\u001b[39m, command, params):\n\u001b[1;32m    <a href='file:///~/Desktop/VeNoM/env/lib/python3.9/site-packages/selenium/webdriver/remote/remote_connection.py?line=402'>403</a>\u001b[0m     \u001b[39m\"\"\"\u001b[39;00m\n\u001b[1;32m    <a href='file:///~/Desktop/VeNoM/env/lib/python3.9/site-packages/selenium/webdriver/remote/remote_connection.py?line=403'>404</a>\u001b[0m \u001b[39m    Send a command to the remote server.\u001b[39;00m\n\u001b[1;32m    <a href='file:///~/Desktop/VeNoM/env/lib/python3.9/site-packages/selenium/webdriver/remote/remote_connection.py?line=404'>405</a>\u001b[0m \n\u001b[0;32m   (...)\u001b[0m\n\u001b[1;32m    <a href='file:///~/Desktop/VeNoM/env/lib/python3.9/site-packages/selenium/webdriver/remote/remote_connection.py?line=411'>412</a>\u001b[0m \u001b[39m       its JSON payload.\u001b[39;00m\n\u001b[1;32m    <a href='file:///~/Desktop/VeNoM/env/lib/python3.9/site-packages/selenium/webdriver/remote/remote_connection.py?line=412'>413</a>\u001b[0m \u001b[39m    \"\"\"\u001b[39;00m\n\u001b[0;32m--> <a href='file:///~/Desktop/VeNoM/env/lib/python3.9/site-packages/selenium/webdriver/remote/remote_connection.py?line=413'>414</a>\u001b[0m     command_info \u001b[39m=\u001b[39m \u001b[39mself\u001b[39;49m\u001b[39m.\u001b[39;49m_commands[command]\n\u001b[1;32m    <a href='file:///~/Desktop/VeNoM/env/lib/python3.9/site-packages/selenium/webdriver/remote/remote_connection.py?line=414'>415</a>\u001b[0m     \u001b[39massert\u001b[39;00m command_info \u001b[39mis\u001b[39;00m \u001b[39mnot\u001b[39;00m \u001b[39mNone\u001b[39;00m, \u001b[39m'\u001b[39m\u001b[39mUnrecognised command \u001b[39m\u001b[39m%s\u001b[39;00m\u001b[39m'\u001b[39m \u001b[39m%\u001b[39m command\n\u001b[1;32m    <a href='file:///~/Desktop/VeNoM/env/lib/python3.9/site-packages/selenium/webdriver/remote/remote_connection.py?line=415'>416</a>\u001b[0m     path \u001b[39m=\u001b[39m string\u001b[39m.\u001b[39mTemplate(command_info[\u001b[39m1\u001b[39m])\u001b[39m.\u001b[39msubstitute(params)\n",
      "\u001b[0;31mKeyError\u001b[0m: \"'allow pasting'\""
     ]
    }
   ],
   "source": [
    "browser.execute(\"'allow pasting'\")"
   ]
  },
  {
   "cell_type": "code",
   "execution_count": 5,
   "metadata": {},
   "outputs": [
    {
     "data": {
      "text/plain": [
       "'\\nlet pdfDocumentName = \"Document\";\\nlet doc = \"\";\\n\\nfunction generatePDF_DataFile () {\\n\\n    let imgTags = document.getElementsByTagName(\"img\");\\n    let checkURLString = \"blob:https://drive.google.com/\";\\n    let validImgTagCounter = 0;\\n\\n    for (i = 0; i < imgTags.length; i++) {\\n\\n        if (imgTags[i].src.substring(0, checkURLString.length) === checkURLString){\\n\\n            validImgTagCounter = validImgTagCounter + 1;\\n            //console.log(imgTags[i].src);\\n            let img = imgTags[i];\\n\\n            let canvas = document.createElement(\\'canvas\\');\\n            let context = canvas.getContext(\"2d\");\\n            canvas.width = img.naturalWidth;\\n            canvas.height = img.naturalHeight;\\n            //console.log(\"Width: \" + img.naturalWidth + \", Height: \" + img.naturalHeight);\\n            context.drawImage(img, 0, 0, img.naturalWidth, img.naturalHeight);\\n\\n            let imgDataURL = canvas.toDataURL();\\n            // console.log(imgDataURL);\\n\\n            if (doc === \"\") {\\n                doc = imgDataURL;\\n            } else {\\n                doc = doc + \"\\\\n\" + imgDataURL;\\n            }\\n\\n        }\\n    }\\n\\n    let anchorElement = document.createElement(\"a\");\\n    let file = new Blob([doc], {type: \\'text/plain\\'});\\n\\n    url = URL.createObjectURL(file);\\n    anchorElement.href = url;\\n    anchorElement.download = pdfDocumentName + \".PDF_DataFile\";\\n    document.body.appendChild(anchorElement);\\n    anchorElement.click();\\n}\\n\\nlet allElements = document.querySelectorAll(\"*\");\\nlet chosenElement;\\nlet heightOfScrollableElement = 0;\\n\\nfor (i = 0; i < allElements.length; i++) {\\n\\n    if ( allElements[i].scrollHeight>=allElements[i].clientHeight){\\n\\n        if (heightOfScrollableElement < allElements[i].scrollHeight){\\n\\n            //console.log(allElements[i]);\\n            //console.log(allElements[i].scrollHeight);\\n            heightOfScrollableElement = allElements[i].scrollHeight;\\n            chosenElement = allElements[i];\\n        }\\n    }\\n}\\n\\nif (chosenElement.scrollHeight > chosenElement.clientHeight) {\\n\\n    console.log(\"Auto Scroll\");\\n\\n    let scrollDistance = Math.round(chosenElement.clientHeight/2);\\n    //console.log(\"scrollHeight: \" + chosenElement.scrollHeight);\\n    //console.log(\"scrollDistance: \" + scrollDistance);\\n\\n    let loopCounter = 0;\\n\\n    function myLoop(remainingHeightToScroll, scrollToLocation) {\\n\\n        loopCounter = loopCounter+1;\\n        console.log(loopCounter);\\n\\n        setTimeout(function() {\\n\\n            if (remainingHeightToScroll === 0) {\\n                scrollToLocation = scrollDistance;\\n                chosenElement.scrollTo(0, scrollToLocation);\\n                remainingHeightToScroll = chosenElement.scrollHeight - scrollDistance;\\n            } else {\\n                scrollToLocation = scrollToLocation + scrollDistance ;\\n                chosenElement.scrollTo(0, scrollToLocation);\\n                remainingHeightToScroll = remainingHeightToScroll - scrollDistance;\\n            }\\n\\n            if (remainingHeightToScroll >= chosenElement.clientHeight) {\\n                myLoop(remainingHeightToScroll, scrollToLocation)\\n            } else {\\n                setTimeout(function() {\\n                    generatePDF_DataFile();\\n                }, 1500)\\n            }\\n\\n        }, 400)\\n    }\\n\\n    myLoop(0, 0);\\n\\n} else {\\n    console.log(\"No Scroll\");\\n    \\n    setTimeout(function() {\\n        generatePDF_DataFile();\\n    }, 1500)\\n}\\n\\n'"
      ]
     },
     "execution_count": 5,
     "metadata": {},
     "output_type": "execute_result"
    }
   ],
   "source": [
    "open(\"script.js\").read()"
   ]
  }
 ],
 "metadata": {
  "interpreter": {
   "hash": "0bbcf0a71085674abaf92bb3e44955a11853eea64b4315b7f8a48afa52d37f3b"
  },
  "kernelspec": {
   "display_name": "Python 3.9.5 ('env': venv)",
   "language": "python",
   "name": "python3"
  },
  "language_info": {
   "codemirror_mode": {
    "name": "ipython",
    "version": 3
   },
   "file_extension": ".py",
   "mimetype": "text/x-python",
   "name": "python",
   "nbconvert_exporter": "python",
   "pygments_lexer": "ipython3",
   "version": "3.9.5"
  },
  "orig_nbformat": 4
 },
 "nbformat": 4,
 "nbformat_minor": 2
}
